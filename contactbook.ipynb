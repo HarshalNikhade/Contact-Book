{
 "cells": [
  {
   "cell_type": "code",
   "execution_count": 7,
   "id": "594b718c-16c1-406a-984a-c3a2676aecc1",
   "metadata": {},
   "outputs": [
    {
     "name": "stdout",
     "output_type": "stream",
     "text": [
      "\n",
      "1.Add Contact\n",
      "2.Display Contact\n",
      "3.Search Contact\n",
      "4.Delete Contact\n",
      "5.Exit\n"
     ]
    },
    {
     "name": "stdin",
     "output_type": "stream",
     "text": [
      "Enter choice: 1\n",
      "Enter name: harshal nikhade\n",
      "Enter phone number: 9503499749\n",
      "Enter email: hn@gmail.com\n"
     ]
    },
    {
     "name": "stdout",
     "output_type": "stream",
     "text": [
      "Contact added successfully!\n",
      "\n",
      "1.Add Contact\n",
      "2.Display Contact\n",
      "3.Search Contact\n",
      "4.Delete Contact\n",
      "5.Exit\n"
     ]
    },
    {
     "name": "stdin",
     "output_type": "stream",
     "text": [
      "Enter choice: 2\n"
     ]
    },
    {
     "name": "stdout",
     "output_type": "stream",
     "text": [
      "Name:harshal nikhade,Phone9503499749,Email:hn@gmail.com\n",
      "\n",
      "1.Add Contact\n",
      "2.Display Contact\n",
      "3.Search Contact\n",
      "4.Delete Contact\n",
      "5.Exit\n"
     ]
    },
    {
     "name": "stdin",
     "output_type": "stream",
     "text": [
      "Enter choice: 3\n",
      "Enter name to search: harshal\n"
     ]
    },
    {
     "name": "stdout",
     "output_type": "stream",
     "text": [
      "Contact not found.\n",
      "\n",
      "1.Add Contact\n",
      "2.Display Contact\n",
      "3.Search Contact\n",
      "4.Delete Contact\n",
      "5.Exit\n"
     ]
    },
    {
     "name": "stdin",
     "output_type": "stream",
     "text": [
      "Enter choice: 4\n",
      "Enter name to delete: harshal\n"
     ]
    },
    {
     "name": "stdout",
     "output_type": "stream",
     "text": [
      "Contact deleted successfully!\n",
      "\n",
      "1.Add Contact\n",
      "2.Display Contact\n",
      "3.Search Contact\n",
      "4.Delete Contact\n",
      "5.Exit\n"
     ]
    },
    {
     "name": "stdin",
     "output_type": "stream",
     "text": [
      "Enter choice: 5\n"
     ]
    },
    {
     "name": "stdout",
     "output_type": "stream",
     "text": [
      "Goodbye!\n"
     ]
    }
   ],
   "source": [
    "import pymysql\n",
    "\n",
    "def get_connection():\n",
    "    return pymysql.connect(\n",
    "        host=\"localhost\",\n",
    "        user=\"root\",\n",
    "        password=\"Harshal@9503\",\n",
    "        database=\"contact_book\"\n",
    "    )\n",
    "\n",
    "#ADD CONTACT:\n",
    "def add_contact():\n",
    "    name=input(\"Enter name:\")\n",
    "    phone=input(\"Enter phone number:\")\n",
    "    email=input(\"Enter email:\")\n",
    "    conn=get_connection()\n",
    "    cursor=conn.cursor()\n",
    "    cursor.execute(\"INSERT INTO contacts(name,phone,email)VALUES(%s,%s,%s)\",(name,phone,email))\n",
    "    conn.commit()\n",
    "    print(\"Contact added successfully!\")\n",
    "    conn.close()\n",
    "#DIPLAY ALL CONTACTS:\n",
    "def display_contacts():\n",
    "    conn=get_connection()\n",
    "    cursor=conn.cursor()\n",
    "    cursor.execute(\"SELECT name,phone,email FROM contacts\")\n",
    "    for row in cursor.fetchall():\n",
    "        print(f\"Name:{row[0]},Phone{row[1]},Email:{row[2]}\")\n",
    "    conn.close()\n",
    "#SEARCH CONTACTS:\n",
    "def search_contact():\n",
    "    name=input(\"Enter name to search:\")\n",
    "    conn=get_connection()\n",
    "    cursor=conn.cursor()\n",
    "    cursor.execute(\"SELECT*FROM contacts WHERE name=%s\",(name,))\n",
    "    contact=cursor.fetchone()\n",
    "    if contact:\n",
    "        print(f\"Name:{contact[0]},Phone{contact[1]},Email:{contact[2]}\")\n",
    "    else:\n",
    "        print(\"Contact not found.\")\n",
    "    conn.close()\n",
    "#DELETE CONTACTS:\n",
    "def delete_contact():\n",
    "    name=input(\"Enter name to delete:\")\n",
    "    conn=get_connection()\n",
    "    cursor=conn.cursor()\n",
    "    cursor.execute(\"DELETE FROM contacts WHERE name=%s\",(name,))\n",
    "    conn.commit()\n",
    "    print(\"Contact deleted successfully!\")\n",
    "    conn.close()\n",
    "#MAIN MENU:\n",
    "def main():\n",
    "    while True:\n",
    "        print(\"\\n1.Add Contact\\n2.Display Contact\\n3.Search Contact\\n4.Delete Contact\\n5.Exit\")\n",
    "        choice = input(\"Enter choice:\")\n",
    "        if choice == '1':\n",
    "            add_contact()\n",
    "        elif choice == '2':\n",
    "            display_contacts()\n",
    "        elif choice =='3':\n",
    "            search_contact()\n",
    "        elif choice =='4':\n",
    "            delete_contact()\n",
    "        elif choice =='5':\n",
    "            print(\"Goodbye!\")\n",
    "            break\n",
    "        else:\n",
    "             print(\"Invalid choice,try again.\")\n",
    "main()"
   ]
  },
  {
   "cell_type": "code",
   "execution_count": null,
   "id": "d80ec461-079f-4c6f-ad78-f5308e05f865",
   "metadata": {},
   "outputs": [],
   "source": []
  }
 ],
 "metadata": {
  "kernelspec": {
   "display_name": "Python 3 (ipykernel)",
   "language": "python",
   "name": "python3"
  },
  "language_info": {
   "codemirror_mode": {
    "name": "ipython",
    "version": 3
   },
   "file_extension": ".py",
   "mimetype": "text/x-python",
   "name": "python",
   "nbconvert_exporter": "python",
   "pygments_lexer": "ipython3",
   "version": "3.12.4"
  }
 },
 "nbformat": 4,
 "nbformat_minor": 5
}
